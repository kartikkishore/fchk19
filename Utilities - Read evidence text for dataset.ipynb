{
 "cells": [
  {
   "cell_type": "code",
   "execution_count": 1,
   "metadata": {},
   "outputs": [],
   "source": [
    "from tqdm import tqdm\n",
    "import pandas as pd\n",
    "import os"
   ]
  },
  {
   "cell_type": "code",
   "execution_count": 2,
   "metadata": {},
   "outputs": [],
   "source": [
    "devsetPath = 'data/devset.json'\n",
    "datapath = 'data/wiki-pages-text/'"
   ]
  },
  {
   "cell_type": "raw",
   "metadata": {},
   "source": [
    "filesInDataPath = sorted([datapath + fileName for fileName in os.listdir(datapath)])"
   ]
  },
  {
   "cell_type": "code",
   "execution_count": null,
   "metadata": {},
   "outputs": [],
   "source": [
    "devset = pd.read_json(devsetPath, orient='index')\n",
    "devset.reset_index(inplace=True)"
   ]
  },
  {
   "cell_type": "markdown",
   "metadata": {},
   "source": [
    "Helper Functions"
   ]
  },
  {
   "cell_type": "code",
   "execution_count": null,
   "metadata": {},
   "outputs": [],
   "source": [
    "def getEvidenceText(vocab, listofLists):\n",
    "    if len(listofLists) > 0:\n",
    "        evidenceText = []\n",
    "        for subList in listofLists:\n",
    "            searchString = subList[0] + ' ' + str(subList[1])\n",
    "            try:\n",
    "                evidenceText.append(vocab[searchString])\n",
    "            except KeyError:\n",
    "                searchString = normalize(searchString)\n",
    "                evidenceText.append(vocab[searchString])\n",
    "        return evidenceText\n",
    "    else:\n",
    "        return None"
   ]
  },
  {
   "cell_type": "raw",
   "metadata": {},
   "source": [
    "finalDF = pd.DataFrame()"
   ]
  },
  {
   "cell_type": "raw",
   "metadata": {},
   "source": [
    "def shardToDF(shardPath):\n",
    "    tempArray = []\n",
    "    with open(shardPath, 'r') as openedFile:\n",
    "        for line in openedFile:\n",
    "            pageTitle, sentenceNo, pageText = line.split(' ', 2)\n",
    "            try:\n",
    "                sentenceNo = int(sentenceNo)\n",
    "            except Exception:\n",
    "                pass\n",
    "            tempArray.append([pageTitle, sentenceNo, pageText])\n",
    "        tempDF = pd.DataFrame.from_records(tempArray, columns=['pageTitle','sentenceNo' ,'pageText'])\n",
    "        tempDF = tempDF.groupby(\"pageTitle\").aggregate(list).reset_index()\n",
    "        return tempDF"
   ]
  },
  {
   "cell_type": "raw",
   "metadata": {},
   "source": [
    "with tqdm(total=len(filesInDataPath)) as pbar:\n",
    "    for path in filesInDataPath:\n",
    "        finalDF = pd.concat((finalDF, shardToDF(path)))\n",
    "        pbar.update(1)"
   ]
  },
  {
   "cell_type": "raw",
   "metadata": {},
   "source": [
    "import swifter"
   ]
  },
  {
   "cell_type": "raw",
   "metadata": {},
   "source": [
    "finalDF['data'] = finalDF.swifter.apply(lambda x: dict(zip(x['sentenceNo'], x['pageText'])), axis = 1)"
   ]
  },
  {
   "cell_type": "raw",
   "metadata": {},
   "source": [
    "finalDF.to_pickle('data/lookupDataset.pkl')"
   ]
  },
  {
   "cell_type": "markdown",
   "metadata": {},
   "source": [
    "Get page text from the data loaded"
   ]
  },
  {
   "cell_type": "code",
   "execution_count": 43,
   "metadata": {},
   "outputs": [],
   "source": [
    "finalDF = pd.read_pickle('data/lookupDataset.pkl')"
   ]
  },
  {
   "cell_type": "markdown",
   "metadata": {},
   "source": [
    "Takes about 2-3 minutes, big file"
   ]
  },
  {
   "cell_type": "code",
   "execution_count": 45,
   "metadata": {},
   "outputs": [],
   "source": [
    "def getPageText(pageTitle):\n",
    "    return list(finalDF[finalDF['pageTitle'] == pageTitle]['data'].values)[0]"
   ]
  },
  {
   "cell_type": "code",
   "execution_count": 47,
   "metadata": {},
   "outputs": [
    {
     "data": {
      "text/plain": [
       "{0: 'Brainless may refer to :\\n',\n",
       " 3: \"`` Brainless '' , a 1995 song by The Urge , from the album Receiving the Gift of Flavor\\n\",\n",
       " 5: \"`` Brainless '' , a 2013 song by Eminem , from the album The Marshall Mathers LP 2\\n\",\n",
       " 7: \"`` Brainless '' , an episode of Round the Twist , 2000\\n\"}"
      ]
     },
     "execution_count": 47,
     "metadata": {},
     "output_type": "execute_result"
    }
   ],
   "source": [
    "getPageText('Brainless')"
   ]
  },
  {
   "cell_type": "markdown",
   "metadata": {},
   "source": [
    "Apply stuff"
   ]
  },
  {
   "cell_type": "code",
   "execution_count": null,
   "metadata": {},
   "outputs": [],
   "source": [
    "vocab = loadVocab(filesInDataPath)\n",
    "devset['evidence_text'] = devset['evidence'].apply(lambda x: getEvidenceText(vocab, x))"
   ]
  }
 ],
 "metadata": {
  "kernelspec": {
   "display_name": "Python 3",
   "language": "python",
   "name": "python3"
  },
  "language_info": {
   "codemirror_mode": {
    "name": "ipython",
    "version": 3
   },
   "file_extension": ".py",
   "mimetype": "text/x-python",
   "name": "python",
   "nbconvert_exporter": "python",
   "pygments_lexer": "ipython3",
   "version": "3.7.3"
  }
 },
 "nbformat": 4,
 "nbformat_minor": 2
}
