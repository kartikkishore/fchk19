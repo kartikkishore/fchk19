{
 "cells": [
  {
   "cell_type": "code",
   "execution_count": 1,
   "metadata": {},
   "outputs": [],
   "source": [
    "import pandas as pd\n",
    "import os\n",
    "import unicodedata\n",
    "from tqdm import tqdm"
   ]
  },
  {
   "cell_type": "code",
   "execution_count": 2,
   "metadata": {},
   "outputs": [],
   "source": [
    "devsetPath = 'data/devset.json'\n",
    "datapath = 'data/wiki-pages-text/'"
   ]
  },
  {
   "cell_type": "code",
   "execution_count": 3,
   "metadata": {},
   "outputs": [],
   "source": [
    "filesInDataPath = sorted([datapath + fileName for fileName in os.listdir(datapath)])"
   ]
  },
  {
   "cell_type": "code",
   "execution_count": 4,
   "metadata": {},
   "outputs": [],
   "source": [
    "devset = pd.read_json(devsetPath, orient='index')\n",
    "devset.reset_index(inplace=True)"
   ]
  },
  {
   "cell_type": "markdown",
   "metadata": {},
   "source": [
    "Helper Functions"
   ]
  },
  {
   "cell_type": "code",
   "execution_count": 5,
   "metadata": {},
   "outputs": [],
   "source": [
    "def normalize(inputString):\n",
    "    intermediaryString = unicodedata.normalize('NFKD', inputString).encode('ascii','ignore')\n",
    "    return str(intermediaryString).replace(\"b'\",\"\").replace(\"'\",\"\")"
   ]
  },
  {
   "cell_type": "code",
   "execution_count": 6,
   "metadata": {},
   "outputs": [],
   "source": [
    "def loadVocab(filesInDataPath):\n",
    "    vocab = {}\n",
    "    with tqdm(total=len(filesInDataPath)) as pbar:\n",
    "        for shardFile in filesInDataPath:\n",
    "            with open(shardFile, 'r') as openedFile:\n",
    "                for line in openedFile:\n",
    "                    pageTitle, sentenceNo, pageText = line.split(' ', 2)\n",
    "                    try:\n",
    "                        sentenceNo = int(sentenceNo)\n",
    "                    except Exception:\n",
    "                        pass\n",
    "                    key = normalize(pageTitle + ' ' + str(sentenceNo))\n",
    "                    vocab[key] = pageText\n",
    "            pbar.update(1)\n",
    "    return vocab  "
   ]
  },
  {
   "cell_type": "code",
   "execution_count": 7,
   "metadata": {},
   "outputs": [],
   "source": [
    "def getEvidenceText(vocab, listofLists):\n",
    "    if len(listofLists) > 0:\n",
    "        evidenceText = []\n",
    "        for subList in listofLists:\n",
    "            searchString = subList[0] + ' ' + str(subList[1])\n",
    "            try:\n",
    "                evidenceText.append(vocab[searchString])\n",
    "            except KeyError:\n",
    "                searchString = normalize(searchString)\n",
    "                evidenceText.append(vocab[searchString])\n",
    "        return evidenceText\n",
    "    else:\n",
    "        return None"
   ]
  },
  {
   "cell_type": "markdown",
   "metadata": {},
   "source": [
    "Apply stuff"
   ]
  },
  {
   "cell_type": "code",
   "execution_count": null,
   "metadata": {},
   "outputs": [],
   "source": [
    "vocab = loadVocab(filesInDataPath)\n",
    "devset['evidence_text'] = devset['evidence'].apply(lambda x: getEvidenceText(vocab, x))"
   ]
  },
  {
   "cell_type": "code",
   "execution_count": null,
   "metadata": {},
   "outputs": [],
   "source": []
  }
 ],
 "metadata": {
  "kernelspec": {
   "display_name": "Python 3",
   "language": "python",
   "name": "python3"
  },
  "language_info": {
   "codemirror_mode": {
    "name": "ipython",
    "version": 3
   },
   "file_extension": ".py",
   "mimetype": "text/x-python",
   "name": "python",
   "nbconvert_exporter": "python",
   "pygments_lexer": "ipython3",
   "version": "3.7.3"
  }
 },
 "nbformat": 4,
 "nbformat_minor": 2
}
