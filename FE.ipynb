{
 "cells": [
  {
   "cell_type": "code",
   "execution_count": null,
   "metadata": {
    "scrolled": true
   },
   "outputs": [],
   "source": [
    "spacy.explain('ADP')"
   ]
  },
  {
   "cell_type": "code",
   "execution_count": null,
   "metadata": {},
   "outputs": [],
   "source": [
    "import spacy\n",
    "nlp = spacy.load('en_core_web_sm')\n",
    "doc = nlp(u'Apple is looking at buying U.K. startup for $1 billion,')\n",
    "for token in doc:\n",
    "    print(token.text, token.lemma_, token.pos_, token.tag_, token.dep_,\n",
    "            token.shape_, token.is_alpha, token.is_stop)"
   ]
  },
  {
   "cell_type": "code",
   "execution_count": 67,
   "metadata": {},
   "outputs": [
    {
     "name": "stdout",
     "output_type": "stream",
     "text": [
      "Magic Johnson 0 13 PERSON\n",
      "Lakers 35 41 ORG\n"
     ]
    }
   ],
   "source": [
    "import spacy\n",
    "nlp = spacy.load('en_core_web_sm')\n",
    "doc = nlp(u'Magic Johnson did not play for the Lakers.')\n",
    "for ent in doc.ents:\n",
    "    print(ent.text, ent.start_char, ent.end_char, ent.label_)"
   ]
  },
  {
   "cell_type": "code",
   "execution_count": 14,
   "metadata": {},
   "outputs": [],
   "source": [
    "import warnings\n",
    "warnings.filterwarnings('ignore')"
   ]
  },
  {
   "cell_type": "code",
   "execution_count": 8,
   "metadata": {},
   "outputs": [],
   "source": [
    "import pandas as pd\n",
    "import spacy\n",
    "nlp = spacy.load('en_core_web_sm')"
   ]
  },
  {
   "cell_type": "code",
   "execution_count": 47,
   "metadata": {},
   "outputs": [],
   "source": []
  },
  {
   "cell_type": "code",
   "execution_count": 110,
   "metadata": {},
   "outputs": [
    {
     "data": {
      "text/html": [
       "<div>\n",
       "<style scoped>\n",
       "    .dataframe tbody tr th:only-of-type {\n",
       "        vertical-align: middle;\n",
       "    }\n",
       "\n",
       "    .dataframe tbody tr th {\n",
       "        vertical-align: top;\n",
       "    }\n",
       "\n",
       "    .dataframe thead th {\n",
       "        text-align: right;\n",
       "    }\n",
       "</style>\n",
       "<table border=\"1\" class=\"dataframe\">\n",
       "  <thead>\n",
       "    <tr style=\"text-align: right;\">\n",
       "      <th></th>\n",
       "      <th>claim</th>\n",
       "      <th>evidence</th>\n",
       "      <th>label</th>\n",
       "    </tr>\n",
       "  </thead>\n",
       "  <tbody>\n",
       "    <tr>\n",
       "      <th>91198</th>\n",
       "      <td>Colin Kaepernick became a starting quarterback...</td>\n",
       "      <td>[]</td>\n",
       "      <td>NOT ENOUGH INFO</td>\n",
       "    </tr>\n",
       "    <tr>\n",
       "      <th>194462</th>\n",
       "      <td>Tilda Swinton is a vegan.</td>\n",
       "      <td>[]</td>\n",
       "      <td>NOT ENOUGH INFO</td>\n",
       "    </tr>\n",
       "    <tr>\n",
       "      <th>137334</th>\n",
       "      <td>Fox 2000 Pictures released the film Soul Food.</td>\n",
       "      <td>[[Soul_Food_-LRB-film-RRB-, 0]]</td>\n",
       "      <td>SUPPORTS</td>\n",
       "    </tr>\n",
       "    <tr>\n",
       "      <th>166626</th>\n",
       "      <td>Anne Rice was born in New Jersey.</td>\n",
       "      <td>[]</td>\n",
       "      <td>NOT ENOUGH INFO</td>\n",
       "    </tr>\n",
       "    <tr>\n",
       "      <th>111897</th>\n",
       "      <td>Telemundo is a English-language television net...</td>\n",
       "      <td>[[Telemundo, 5], [Telemundo, 4], [Telemundo, 1...</td>\n",
       "      <td>REFUTES</td>\n",
       "    </tr>\n",
       "  </tbody>\n",
       "</table>\n",
       "</div>"
      ],
      "text/plain": [
       "                                                    claim  \\\n",
       "91198   Colin Kaepernick became a starting quarterback...   \n",
       "194462                          Tilda Swinton is a vegan.   \n",
       "137334     Fox 2000 Pictures released the film Soul Food.   \n",
       "166626                  Anne Rice was born in New Jersey.   \n",
       "111897  Telemundo is a English-language television net...   \n",
       "\n",
       "                                                 evidence            label  \n",
       "91198                                                  []  NOT ENOUGH INFO  \n",
       "194462                                                 []  NOT ENOUGH INFO  \n",
       "137334                    [[Soul_Food_-LRB-film-RRB-, 0]]         SUPPORTS  \n",
       "166626                                                 []  NOT ENOUGH INFO  \n",
       "111897  [[Telemundo, 5], [Telemundo, 4], [Telemundo, 1...          REFUTES  "
      ]
     },
     "execution_count": 110,
     "metadata": {},
     "output_type": "execute_result"
    }
   ],
   "source": [
    "df = pd.read_json('devset.json',)\n",
    "subset = df.transpose()\n",
    "#df.head()\n",
    "#subset = df[20:40]\n",
    "subset.head()"
   ]
  },
  {
   "cell_type": "code",
   "execution_count": 89,
   "metadata": {},
   "outputs": [],
   "source": [
    "def noun_counts(sentence):\n",
    "    doc = nlp(sentence)\n",
    "    count = 0\n",
    "    for token in doc:\n",
    "        if token.pos_ == \"PROPN\" or token.pos_ == \"NOUN\":\n",
    "            count +=1\n",
    "    return count"
   ]
  },
  {
   "cell_type": "code",
   "execution_count": 90,
   "metadata": {},
   "outputs": [],
   "source": [
    "def numeric_counts(sentence):\n",
    "    doc = nlp(sentence)\n",
    "    count = 0\n",
    "    for token in doc:\n",
    "        if token.is_alpha == False and token.pos_ != \"PUNCT\":\n",
    "            count +=1\n",
    "    return count"
   ]
  },
  {
   "cell_type": "code",
   "execution_count": 91,
   "metadata": {},
   "outputs": [],
   "source": [
    "def common_word_counts(sentence):\n",
    "    doc = nlp(sentence)\n",
    "    count = 0\n",
    "    for token in doc:\n",
    "        if token.is_stop == True:\n",
    "            count +=1\n",
    "    return count"
   ]
  },
  {
   "cell_type": "code",
   "execution_count": 92,
   "metadata": {},
   "outputs": [],
   "source": [
    "def punctuation_counts(sentence):\n",
    "    doc = nlp(sentence)\n",
    "    count = 0\n",
    "    for token in doc:\n",
    "        if token.lemma_ == \",\":\n",
    "            count +=1\n",
    "    return count"
   ]
  },
  {
   "cell_type": "code",
   "execution_count": 93,
   "metadata": {},
   "outputs": [],
   "source": [
    "def person_counts(sentence):\n",
    "    doc = nlp(sentence)\n",
    "    count = 0\n",
    "    for token in doc.ents:\n",
    "        if token.label_ == \"PERSON\":\n",
    "            count +=1\n",
    "    return count"
   ]
  },
  {
   "cell_type": "code",
   "execution_count": 94,
   "metadata": {},
   "outputs": [],
   "source": [
    "def organisation_counts(sentence):\n",
    "    doc = nlp(sentence)\n",
    "    count = 0\n",
    "    for token in doc.ents:\n",
    "        if token.label_ == \"ORG\":\n",
    "            count +=1\n",
    "    return count"
   ]
  },
  {
   "cell_type": "code",
   "execution_count": 95,
   "metadata": {},
   "outputs": [],
   "source": [
    "def product_counts(sentence):\n",
    "    doc = nlp(sentence)\n",
    "    count = 0\n",
    "    for token in doc.ents:\n",
    "        if token.label_ == \"PRODUCT\":\n",
    "            count +=1\n",
    "    return count"
   ]
  },
  {
   "cell_type": "code",
   "execution_count": null,
   "metadata": {},
   "outputs": [],
   "source": []
  },
  {
   "cell_type": "code",
   "execution_count": null,
   "metadata": {},
   "outputs": [],
   "source": [
    "%%time\n",
    "subset['no_of_words'] = subset['claim'].apply(lambda x: len(x.split(' ')))\n",
    "subset['length_of_claim'] = subset['claim'].apply(lambda x: len(x))\n",
    "subset['average_word_length'] = subset['claim'].apply(lambda x: (len(x)/len(x.split(' '))))\n",
    "subset['noun_counts'] = subset['claim'].apply(lambda x: noun_counts(x))\n",
    "subset['numeric_counts'] = subset['claim'].apply(lambda x: numeric_counts(x))\n",
    "subset['punctuation_counts'] = subset['claim'].apply(lambda x: punctuation_counts(x))\n",
    "subset['common_word_counts'] = subset['claim'].apply(lambda x: common_word_counts(x))\n",
    "subset['person_counts'] = subset['claim'].apply(lambda x: person_counts(x))\n",
    "subset['organisation_counts'] = subset['claim'].apply(lambda x: organisation_counts(x))\n",
    "subset['product_counts'] = subset['claim'].apply(lambda x: product_counts(x))\n",
    "subset.head()"
   ]
  },
  {
   "cell_type": "code",
   "execution_count": 87,
   "metadata": {},
   "outputs": [],
   "source": [
    "s = subset"
   ]
  },
  {
   "cell_type": "code",
   "execution_count": null,
   "metadata": {},
   "outputs": [],
   "source": [
    "test = pd.read_json('test-unlabelled.json').transpose()\n",
    "test['no_of_words'] = test['claim'].apply(lambda x: len(x.split(' ')))\n",
    "test['length_of_claim'] = test['claim'].apply(lambda x: len(x))\n",
    "test['average_word_length'] = test['claim'].apply(lambda x: (len(x)/len(x.split(' '))))\n",
    "test['noun_counts'] = test['claim'].apply(lambda x: noun_counts(x))\n",
    "test['numeric_counts'] = test['claim'].apply(lambda x: numeric_counts(x))\n",
    "test['punctuation_counts'] = test['claim'].apply(lambda x: punctuation_counts(x))\n",
    "test['common_word_counts'] = test['claim'].apply(lambda x: common_word_counts(x))\n",
    "test['person_counts'] = test['claim'].apply(lambda x: person_counts(x))\n",
    "test['organisation_counts'] = test['claim'].apply(lambda x: organisation_counts(x))\n",
    "test['product_counts'] = test['claim'].apply(lambda x: product_counts(x))\n",
    "test.head()\n",
    "\n",
    "#add evidence to test set"
   ]
  },
  {
   "cell_type": "code",
   "execution_count": null,
   "metadata": {},
   "outputs": [],
   "source": [
    "X_train = s\n",
    "y_train = test\n",
    "claim = s['claim']\n",
    "from sklearn.tree import DecisionTreeRegressor\n",
    "model = DecisionTreeRegressor()\n",
    "model.fit(X_train,y_train)\n",
    "#add evidence using IR library\n",
    "predictions = model.predict(X_test)\n",
    "d = {'id': X_test['id'],'claim': claim ,'label': predictions}\n",
    "output = pd.DataFrame(data=d)\n",
    "output.to_json('testoutput.json',sep=\",\",index=False)"
   ]
  }
 ],
 "metadata": {
  "kernelspec": {
   "display_name": "Python 3",
   "language": "python",
   "name": "python3"
  },
  "language_info": {
   "codemirror_mode": {
    "name": "ipython",
    "version": 3
   },
   "file_extension": ".py",
   "mimetype": "text/x-python",
   "name": "python",
   "nbconvert_exporter": "python",
   "pygments_lexer": "ipython3",
   "version": "3.7.3"
  },
  "toc": {
   "base_numbering": 1,
   "nav_menu": {},
   "number_sections": true,
   "sideBar": true,
   "skip_h1_title": false,
   "title_cell": "Table of Contents",
   "title_sidebar": "Contents",
   "toc_cell": false,
   "toc_position": {},
   "toc_section_display": true,
   "toc_window_display": false
  }
 },
 "nbformat": 4,
 "nbformat_minor": 2
}
