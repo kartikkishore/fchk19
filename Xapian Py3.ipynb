{
 "cells": [
  {
   "cell_type": "code",
   "execution_count": 1,
   "metadata": {},
   "outputs": [],
   "source": [
    "import spacy\n",
    "import os\n",
    "import xapian\n",
    "import re\n",
    "import io\n",
    "import shutil\n",
    "import datetime\n",
    "from tqdm import tqdm as tqdm"
   ]
  },
  {
   "cell_type": "code",
   "execution_count": 2,
   "metadata": {},
   "outputs": [],
   "source": [
    "dbpath = 'data/xapIndex_SenID_Text'\n",
    "datapath = 'data/wiki-pages-text/'"
   ]
  },
  {
   "cell_type": "markdown",
   "metadata": {},
   "source": [
    "# Shard Paths"
   ]
  },
  {
   "cell_type": "code",
   "execution_count": 3,
   "metadata": {},
   "outputs": [],
   "source": [
    "filesInDataPath = sorted([datapath + fileName for fileName in os.listdir(datapath)], reverse=True)\n",
    "filesInDataPath = sorted(filesInDataPath)"
   ]
  },
  {
   "cell_type": "code",
   "execution_count": 4,
   "metadata": {},
   "outputs": [
    {
     "data": {
      "text/plain": [
       "['data/wiki-pages-text/wiki-001.txt',\n",
       " 'data/wiki-pages-text/wiki-002.txt',\n",
       " 'data/wiki-pages-text/wiki-003.txt',\n",
       " 'data/wiki-pages-text/wiki-004.txt',\n",
       " 'data/wiki-pages-text/wiki-005.txt',\n",
       " 'data/wiki-pages-text/wiki-006.txt',\n",
       " 'data/wiki-pages-text/wiki-007.txt',\n",
       " 'data/wiki-pages-text/wiki-008.txt',\n",
       " 'data/wiki-pages-text/wiki-009.txt',\n",
       " 'data/wiki-pages-text/wiki-010.txt',\n",
       " 'data/wiki-pages-text/wiki-011.txt',\n",
       " 'data/wiki-pages-text/wiki-012.txt',\n",
       " 'data/wiki-pages-text/wiki-013.txt',\n",
       " 'data/wiki-pages-text/wiki-014.txt',\n",
       " 'data/wiki-pages-text/wiki-015.txt',\n",
       " 'data/wiki-pages-text/wiki-016.txt',\n",
       " 'data/wiki-pages-text/wiki-017.txt',\n",
       " 'data/wiki-pages-text/wiki-018.txt',\n",
       " 'data/wiki-pages-text/wiki-019.txt',\n",
       " 'data/wiki-pages-text/wiki-020.txt',\n",
       " 'data/wiki-pages-text/wiki-021.txt',\n",
       " 'data/wiki-pages-text/wiki-022.txt',\n",
       " 'data/wiki-pages-text/wiki-023.txt',\n",
       " 'data/wiki-pages-text/wiki-024.txt',\n",
       " 'data/wiki-pages-text/wiki-025.txt',\n",
       " 'data/wiki-pages-text/wiki-026.txt',\n",
       " 'data/wiki-pages-text/wiki-027.txt',\n",
       " 'data/wiki-pages-text/wiki-028.txt',\n",
       " 'data/wiki-pages-text/wiki-029.txt',\n",
       " 'data/wiki-pages-text/wiki-030.txt',\n",
       " 'data/wiki-pages-text/wiki-031.txt',\n",
       " 'data/wiki-pages-text/wiki-032.txt',\n",
       " 'data/wiki-pages-text/wiki-033.txt',\n",
       " 'data/wiki-pages-text/wiki-034.txt',\n",
       " 'data/wiki-pages-text/wiki-035.txt',\n",
       " 'data/wiki-pages-text/wiki-036.txt',\n",
       " 'data/wiki-pages-text/wiki-037.txt',\n",
       " 'data/wiki-pages-text/wiki-038.txt',\n",
       " 'data/wiki-pages-text/wiki-039.txt',\n",
       " 'data/wiki-pages-text/wiki-040.txt',\n",
       " 'data/wiki-pages-text/wiki-041.txt',\n",
       " 'data/wiki-pages-text/wiki-042.txt',\n",
       " 'data/wiki-pages-text/wiki-043.txt',\n",
       " 'data/wiki-pages-text/wiki-044.txt',\n",
       " 'data/wiki-pages-text/wiki-045.txt',\n",
       " 'data/wiki-pages-text/wiki-046.txt',\n",
       " 'data/wiki-pages-text/wiki-047.txt',\n",
       " 'data/wiki-pages-text/wiki-048.txt',\n",
       " 'data/wiki-pages-text/wiki-049.txt',\n",
       " 'data/wiki-pages-text/wiki-050.txt',\n",
       " 'data/wiki-pages-text/wiki-051.txt',\n",
       " 'data/wiki-pages-text/wiki-052.txt',\n",
       " 'data/wiki-pages-text/wiki-053.txt',\n",
       " 'data/wiki-pages-text/wiki-054.txt',\n",
       " 'data/wiki-pages-text/wiki-055.txt',\n",
       " 'data/wiki-pages-text/wiki-056.txt',\n",
       " 'data/wiki-pages-text/wiki-057.txt',\n",
       " 'data/wiki-pages-text/wiki-058.txt',\n",
       " 'data/wiki-pages-text/wiki-059.txt',\n",
       " 'data/wiki-pages-text/wiki-060.txt',\n",
       " 'data/wiki-pages-text/wiki-061.txt',\n",
       " 'data/wiki-pages-text/wiki-062.txt',\n",
       " 'data/wiki-pages-text/wiki-063.txt',\n",
       " 'data/wiki-pages-text/wiki-064.txt',\n",
       " 'data/wiki-pages-text/wiki-065.txt',\n",
       " 'data/wiki-pages-text/wiki-066.txt',\n",
       " 'data/wiki-pages-text/wiki-067.txt',\n",
       " 'data/wiki-pages-text/wiki-068.txt',\n",
       " 'data/wiki-pages-text/wiki-069.txt',\n",
       " 'data/wiki-pages-text/wiki-070.txt',\n",
       " 'data/wiki-pages-text/wiki-071.txt',\n",
       " 'data/wiki-pages-text/wiki-072.txt',\n",
       " 'data/wiki-pages-text/wiki-073.txt',\n",
       " 'data/wiki-pages-text/wiki-074.txt',\n",
       " 'data/wiki-pages-text/wiki-075.txt',\n",
       " 'data/wiki-pages-text/wiki-076.txt',\n",
       " 'data/wiki-pages-text/wiki-077.txt',\n",
       " 'data/wiki-pages-text/wiki-078.txt',\n",
       " 'data/wiki-pages-text/wiki-079.txt',\n",
       " 'data/wiki-pages-text/wiki-080.txt',\n",
       " 'data/wiki-pages-text/wiki-081.txt',\n",
       " 'data/wiki-pages-text/wiki-082.txt',\n",
       " 'data/wiki-pages-text/wiki-083.txt',\n",
       " 'data/wiki-pages-text/wiki-084.txt',\n",
       " 'data/wiki-pages-text/wiki-085.txt',\n",
       " 'data/wiki-pages-text/wiki-086.txt',\n",
       " 'data/wiki-pages-text/wiki-087.txt',\n",
       " 'data/wiki-pages-text/wiki-088.txt',\n",
       " 'data/wiki-pages-text/wiki-089.txt',\n",
       " 'data/wiki-pages-text/wiki-090.txt',\n",
       " 'data/wiki-pages-text/wiki-091.txt',\n",
       " 'data/wiki-pages-text/wiki-092.txt',\n",
       " 'data/wiki-pages-text/wiki-093.txt',\n",
       " 'data/wiki-pages-text/wiki-094.txt',\n",
       " 'data/wiki-pages-text/wiki-095.txt',\n",
       " 'data/wiki-pages-text/wiki-096.txt',\n",
       " 'data/wiki-pages-text/wiki-097.txt',\n",
       " 'data/wiki-pages-text/wiki-098.txt',\n",
       " 'data/wiki-pages-text/wiki-099.txt',\n",
       " 'data/wiki-pages-text/wiki-100.txt',\n",
       " 'data/wiki-pages-text/wiki-101.txt',\n",
       " 'data/wiki-pages-text/wiki-102.txt',\n",
       " 'data/wiki-pages-text/wiki-103.txt',\n",
       " 'data/wiki-pages-text/wiki-104.txt',\n",
       " 'data/wiki-pages-text/wiki-105.txt',\n",
       " 'data/wiki-pages-text/wiki-106.txt',\n",
       " 'data/wiki-pages-text/wiki-107.txt',\n",
       " 'data/wiki-pages-text/wiki-108.txt',\n",
       " 'data/wiki-pages-text/wiki-109.txt']"
      ]
     },
     "execution_count": 4,
     "metadata": {},
     "output_type": "execute_result"
    }
   ],
   "source": [
    "filesInDataPath"
   ]
  },
  {
   "cell_type": "markdown",
   "metadata": {},
   "source": [
    "Xapian build Index"
   ]
  },
  {
   "cell_type": "code",
   "execution_count": 5,
   "metadata": {},
   "outputs": [],
   "source": [
    "x_db = xapian.WritableDatabase(dbpath, xapian.DB_CREATE_OR_OPEN)"
   ]
  },
  {
   "cell_type": "markdown",
   "metadata": {},
   "source": [
    "Set termgenerator for indexing"
   ]
  },
  {
   "cell_type": "code",
   "execution_count": 6,
   "metadata": {},
   "outputs": [],
   "source": [
    "index = xapian.TermGenerator()"
   ]
  },
  {
   "cell_type": "markdown",
   "metadata": {},
   "source": [
    "Set Stemmer"
   ]
  },
  {
   "cell_type": "code",
   "execution_count": 7,
   "metadata": {},
   "outputs": [],
   "source": [
    "index.set_stemmer(xapian.Stem('en'))"
   ]
  },
  {
   "cell_type": "markdown",
   "metadata": {},
   "source": [
    "Build Index"
   ]
  },
  {
   "cell_type": "code",
   "execution_count": null,
   "metadata": {
    "scrolled": true
   },
   "outputs": [
    {
     "name": "stderr",
     "output_type": "stream",
     "text": [
      "\r",
      "  0%|          | 0/109 [00:00<?, ?it/s]"
     ]
    },
    {
     "name": "stdout",
     "output_type": "stream",
     "text": [
      "Time started at 14:48:27.741458\n",
      "Now processing: data/wiki-pages-text/wiki-001.txt\n"
     ]
    },
    {
     "name": "stderr",
     "output_type": "stream",
     "text": [
      "\r",
      "  1%|          | 1/109 [00:28<51:34, 28.66s/it]"
     ]
    },
    {
     "name": "stdout",
     "output_type": "stream",
     "text": [
      "Now processing: data/wiki-pages-text/wiki-002.txt\n"
     ]
    },
    {
     "name": "stderr",
     "output_type": "stream",
     "text": [
      "\r",
      "  2%|▏         | 2/109 [00:58<51:59, 29.15s/it]"
     ]
    },
    {
     "name": "stdout",
     "output_type": "stream",
     "text": [
      "Now processing: data/wiki-pages-text/wiki-003.txt\n"
     ]
    },
    {
     "name": "stderr",
     "output_type": "stream",
     "text": [
      "\r",
      "  3%|▎         | 3/109 [01:38<57:10, 32.36s/it]"
     ]
    },
    {
     "name": "stdout",
     "output_type": "stream",
     "text": [
      "Now processing: data/wiki-pages-text/wiki-004.txt\n"
     ]
    },
    {
     "name": "stderr",
     "output_type": "stream",
     "text": [
      "\r",
      "  4%|▎         | 4/109 [02:20<1:01:26, 35.11s/it]"
     ]
    },
    {
     "name": "stdout",
     "output_type": "stream",
     "text": [
      "Now processing: data/wiki-pages-text/wiki-005.txt\n"
     ]
    },
    {
     "name": "stderr",
     "output_type": "stream",
     "text": [
      "\r",
      "  5%|▍         | 5/109 [03:07<1:07:04, 38.70s/it]"
     ]
    },
    {
     "name": "stdout",
     "output_type": "stream",
     "text": [
      "Now processing: data/wiki-pages-text/wiki-006.txt\n"
     ]
    },
    {
     "name": "stderr",
     "output_type": "stream",
     "text": [
      "\r",
      "  6%|▌         | 6/109 [03:57<1:12:14, 42.08s/it]"
     ]
    },
    {
     "name": "stdout",
     "output_type": "stream",
     "text": [
      "Now processing: data/wiki-pages-text/wiki-007.txt\n"
     ]
    },
    {
     "name": "stderr",
     "output_type": "stream",
     "text": [
      "\r",
      "  6%|▋         | 7/109 [04:52<1:18:16, 46.04s/it]"
     ]
    },
    {
     "name": "stdout",
     "output_type": "stream",
     "text": [
      "Now processing: data/wiki-pages-text/wiki-008.txt\n"
     ]
    },
    {
     "name": "stderr",
     "output_type": "stream",
     "text": [
      "\r",
      "  7%|▋         | 8/109 [05:52<1:24:25, 50.15s/it]"
     ]
    },
    {
     "name": "stdout",
     "output_type": "stream",
     "text": [
      "Now processing: data/wiki-pages-text/wiki-009.txt\n"
     ]
    },
    {
     "name": "stderr",
     "output_type": "stream",
     "text": [
      "\r",
      "  8%|▊         | 9/109 [06:56<1:30:27, 54.28s/it]"
     ]
    },
    {
     "name": "stdout",
     "output_type": "stream",
     "text": [
      "Now processing: data/wiki-pages-text/wiki-010.txt\n"
     ]
    },
    {
     "name": "stderr",
     "output_type": "stream",
     "text": [
      "\r",
      "  9%|▉         | 10/109 [08:04<1:36:17, 58.36s/it]"
     ]
    },
    {
     "name": "stdout",
     "output_type": "stream",
     "text": [
      "Now processing: data/wiki-pages-text/wiki-011.txt\n"
     ]
    },
    {
     "name": "stderr",
     "output_type": "stream",
     "text": [
      "\r",
      " 10%|█         | 11/109 [09:16<1:42:03, 62.49s/it]"
     ]
    },
    {
     "name": "stdout",
     "output_type": "stream",
     "text": [
      "Now processing: data/wiki-pages-text/wiki-012.txt\n"
     ]
    },
    {
     "name": "stderr",
     "output_type": "stream",
     "text": [
      "\r",
      " 11%|█         | 12/109 [10:30<1:46:55, 66.14s/it]"
     ]
    },
    {
     "name": "stdout",
     "output_type": "stream",
     "text": [
      "Now processing: data/wiki-pages-text/wiki-013.txt\n"
     ]
    },
    {
     "name": "stderr",
     "output_type": "stream",
     "text": [
      "\r",
      " 12%|█▏        | 13/109 [11:45<1:50:01, 68.76s/it]"
     ]
    },
    {
     "name": "stdout",
     "output_type": "stream",
     "text": [
      "Now processing: data/wiki-pages-text/wiki-014.txt\n"
     ]
    },
    {
     "name": "stderr",
     "output_type": "stream",
     "text": [
      "\r",
      " 13%|█▎        | 14/109 [13:07<1:55:08, 72.72s/it]"
     ]
    },
    {
     "name": "stdout",
     "output_type": "stream",
     "text": [
      "Now processing: data/wiki-pages-text/wiki-015.txt\n"
     ]
    },
    {
     "name": "stderr",
     "output_type": "stream",
     "text": [
      "\r",
      " 14%|█▍        | 15/109 [14:35<2:01:01, 77.25s/it]"
     ]
    },
    {
     "name": "stdout",
     "output_type": "stream",
     "text": [
      "Now processing: data/wiki-pages-text/wiki-016.txt\n"
     ]
    },
    {
     "name": "stderr",
     "output_type": "stream",
     "text": [
      "\r",
      " 15%|█▍        | 16/109 [16:01<2:03:57, 79.97s/it]"
     ]
    },
    {
     "name": "stdout",
     "output_type": "stream",
     "text": [
      "Now processing: data/wiki-pages-text/wiki-017.txt\n"
     ]
    },
    {
     "name": "stderr",
     "output_type": "stream",
     "text": [
      "\r",
      " 16%|█▌        | 17/109 [17:30<2:06:33, 82.54s/it]"
     ]
    },
    {
     "name": "stdout",
     "output_type": "stream",
     "text": [
      "Now processing: data/wiki-pages-text/wiki-018.txt\n"
     ]
    },
    {
     "name": "stderr",
     "output_type": "stream",
     "text": [
      "\r",
      " 17%|█▋        | 18/109 [19:01<2:09:06, 85.12s/it]"
     ]
    },
    {
     "name": "stdout",
     "output_type": "stream",
     "text": [
      "Now processing: data/wiki-pages-text/wiki-019.txt\n"
     ]
    },
    {
     "name": "stderr",
     "output_type": "stream",
     "text": [
      "\r",
      " 17%|█▋        | 19/109 [20:34<2:11:19, 87.55s/it]"
     ]
    },
    {
     "name": "stdout",
     "output_type": "stream",
     "text": [
      "Now processing: data/wiki-pages-text/wiki-020.txt\n"
     ]
    },
    {
     "name": "stderr",
     "output_type": "stream",
     "text": [
      "\r",
      " 18%|█▊        | 20/109 [22:13<2:14:40, 90.79s/it]"
     ]
    },
    {
     "name": "stdout",
     "output_type": "stream",
     "text": [
      "Now processing: data/wiki-pages-text/wiki-021.txt\n"
     ]
    },
    {
     "name": "stderr",
     "output_type": "stream",
     "text": [
      "\r",
      " 19%|█▉        | 21/109 [23:58<2:19:23, 95.04s/it]"
     ]
    },
    {
     "name": "stdout",
     "output_type": "stream",
     "text": [
      "Now processing: data/wiki-pages-text/wiki-022.txt\n"
     ]
    },
    {
     "name": "stderr",
     "output_type": "stream",
     "text": [
      "\r",
      " 20%|██        | 22/109 [25:43<2:22:23, 98.20s/it]"
     ]
    },
    {
     "name": "stdout",
     "output_type": "stream",
     "text": [
      "Now processing: data/wiki-pages-text/wiki-023.txt\n"
     ]
    },
    {
     "name": "stderr",
     "output_type": "stream",
     "text": [
      "\r",
      " 21%|██        | 23/109 [27:32<2:25:29, 101.50s/it]"
     ]
    },
    {
     "name": "stdout",
     "output_type": "stream",
     "text": [
      "Now processing: data/wiki-pages-text/wiki-024.txt\n"
     ]
    },
    {
     "name": "stderr",
     "output_type": "stream",
     "text": [
      "\r",
      " 22%|██▏       | 24/109 [29:20<2:26:11, 103.20s/it]"
     ]
    },
    {
     "name": "stdout",
     "output_type": "stream",
     "text": [
      "Now processing: data/wiki-pages-text/wiki-025.txt\n"
     ]
    },
    {
     "name": "stderr",
     "output_type": "stream",
     "text": [
      "\r",
      " 23%|██▎       | 25/109 [31:18<2:30:57, 107.82s/it]"
     ]
    },
    {
     "name": "stdout",
     "output_type": "stream",
     "text": [
      "Now processing: data/wiki-pages-text/wiki-026.txt\n"
     ]
    },
    {
     "name": "stderr",
     "output_type": "stream",
     "text": [
      "\r",
      " 24%|██▍       | 26/109 [33:26<2:37:23, 113.78s/it]"
     ]
    },
    {
     "name": "stdout",
     "output_type": "stream",
     "text": [
      "Now processing: data/wiki-pages-text/wiki-027.txt\n"
     ]
    },
    {
     "name": "stderr",
     "output_type": "stream",
     "text": [
      "\r",
      " 25%|██▍       | 27/109 [35:49<2:47:29, 122.56s/it]"
     ]
    },
    {
     "name": "stdout",
     "output_type": "stream",
     "text": [
      "Now processing: data/wiki-pages-text/wiki-028.txt\n"
     ]
    },
    {
     "name": "stderr",
     "output_type": "stream",
     "text": [
      "\r",
      " 26%|██▌       | 28/109 [37:59<2:48:18, 124.67s/it]"
     ]
    },
    {
     "name": "stdout",
     "output_type": "stream",
     "text": [
      "Now processing: data/wiki-pages-text/wiki-029.txt\n"
     ]
    },
    {
     "name": "stderr",
     "output_type": "stream",
     "text": [
      "\r",
      " 27%|██▋       | 29/109 [40:21<2:53:22, 130.04s/it]"
     ]
    },
    {
     "name": "stdout",
     "output_type": "stream",
     "text": [
      "Now processing: data/wiki-pages-text/wiki-030.txt\n"
     ]
    },
    {
     "name": "stderr",
     "output_type": "stream",
     "text": [
      "\r",
      " 28%|██▊       | 30/109 [42:30<2:50:38, 129.61s/it]"
     ]
    },
    {
     "name": "stdout",
     "output_type": "stream",
     "text": [
      "Now processing: data/wiki-pages-text/wiki-031.txt\n"
     ]
    },
    {
     "name": "stderr",
     "output_type": "stream",
     "text": [
      "\r",
      " 28%|██▊       | 31/109 [44:30<2:44:43, 126.71s/it]"
     ]
    },
    {
     "name": "stdout",
     "output_type": "stream",
     "text": [
      "Now processing: data/wiki-pages-text/wiki-032.txt\n"
     ]
    },
    {
     "name": "stderr",
     "output_type": "stream",
     "text": [
      "\r",
      " 29%|██▉       | 32/109 [46:30<2:40:08, 124.78s/it]"
     ]
    },
    {
     "name": "stdout",
     "output_type": "stream",
     "text": [
      "Now processing: data/wiki-pages-text/wiki-033.txt\n"
     ]
    },
    {
     "name": "stderr",
     "output_type": "stream",
     "text": [
      "\r",
      " 30%|███       | 33/109 [48:42<2:40:50, 126.97s/it]"
     ]
    },
    {
     "name": "stdout",
     "output_type": "stream",
     "text": [
      "Now processing: data/wiki-pages-text/wiki-034.txt\n"
     ]
    },
    {
     "name": "stderr",
     "output_type": "stream",
     "text": [
      "\r",
      " 31%|███       | 34/109 [50:40<2:35:17, 124.24s/it]"
     ]
    },
    {
     "name": "stdout",
     "output_type": "stream",
     "text": [
      "Now processing: data/wiki-pages-text/wiki-035.txt\n"
     ]
    },
    {
     "name": "stderr",
     "output_type": "stream",
     "text": [
      "\r",
      " 32%|███▏      | 35/109 [52:42<2:32:17, 123.48s/it]"
     ]
    },
    {
     "name": "stdout",
     "output_type": "stream",
     "text": [
      "Now processing: data/wiki-pages-text/wiki-036.txt\n"
     ]
    },
    {
     "name": "stderr",
     "output_type": "stream",
     "text": [
      "\r",
      " 33%|███▎      | 36/109 [54:43<2:29:34, 122.94s/it]"
     ]
    },
    {
     "name": "stdout",
     "output_type": "stream",
     "text": [
      "Now processing: data/wiki-pages-text/wiki-037.txt\n"
     ]
    },
    {
     "name": "stderr",
     "output_type": "stream",
     "text": [
      "\r",
      " 34%|███▍      | 37/109 [56:44<2:26:40, 122.23s/it]"
     ]
    },
    {
     "name": "stdout",
     "output_type": "stream",
     "text": [
      "Now processing: data/wiki-pages-text/wiki-038.txt\n"
     ]
    },
    {
     "name": "stderr",
     "output_type": "stream",
     "text": [
      "\r",
      " 35%|███▍      | 38/109 [58:57<2:28:26, 125.44s/it]"
     ]
    },
    {
     "name": "stdout",
     "output_type": "stream",
     "text": [
      "Now processing: data/wiki-pages-text/wiki-039.txt\n"
     ]
    },
    {
     "name": "stderr",
     "output_type": "stream",
     "text": [
      "\r",
      " 36%|███▌      | 39/109 [1:01:02<2:26:25, 125.50s/it]"
     ]
    },
    {
     "name": "stdout",
     "output_type": "stream",
     "text": [
      "Now processing: data/wiki-pages-text/wiki-040.txt\n"
     ]
    },
    {
     "name": "stderr",
     "output_type": "stream",
     "text": [
      "\r",
      " 37%|███▋      | 40/109 [1:03:01<2:22:03, 123.53s/it]"
     ]
    },
    {
     "name": "stdout",
     "output_type": "stream",
     "text": [
      "Now processing: data/wiki-pages-text/wiki-041.txt\n"
     ]
    },
    {
     "name": "stderr",
     "output_type": "stream",
     "text": [
      "\r",
      " 38%|███▊      | 41/109 [1:05:02<2:18:51, 122.52s/it]"
     ]
    },
    {
     "name": "stdout",
     "output_type": "stream",
     "text": [
      "Now processing: data/wiki-pages-text/wiki-042.txt\n"
     ]
    },
    {
     "name": "stderr",
     "output_type": "stream",
     "text": [
      "\r",
      " 39%|███▊      | 42/109 [1:07:03<2:16:19, 122.09s/it]"
     ]
    },
    {
     "name": "stdout",
     "output_type": "stream",
     "text": [
      "Now processing: data/wiki-pages-text/wiki-043.txt\n"
     ]
    },
    {
     "name": "stderr",
     "output_type": "stream",
     "text": [
      "\r",
      " 39%|███▉      | 43/109 [1:09:07<2:14:58, 122.70s/it]"
     ]
    },
    {
     "name": "stdout",
     "output_type": "stream",
     "text": [
      "Now processing: data/wiki-pages-text/wiki-044.txt\n"
     ]
    },
    {
     "name": "stderr",
     "output_type": "stream",
     "text": [
      "\r",
      " 40%|████      | 44/109 [1:11:25<2:17:56, 127.33s/it]"
     ]
    },
    {
     "name": "stdout",
     "output_type": "stream",
     "text": [
      "Now processing: data/wiki-pages-text/wiki-045.txt\n"
     ]
    },
    {
     "name": "stderr",
     "output_type": "stream",
     "text": [
      "\r",
      " 41%|████▏     | 45/109 [1:14:03<2:25:50, 136.72s/it]"
     ]
    },
    {
     "name": "stdout",
     "output_type": "stream",
     "text": [
      "Now processing: data/wiki-pages-text/wiki-046.txt\n"
     ]
    },
    {
     "name": "stderr",
     "output_type": "stream",
     "text": [
      "\r",
      " 42%|████▏     | 46/109 [1:16:37<2:28:52, 141.78s/it]"
     ]
    },
    {
     "name": "stdout",
     "output_type": "stream",
     "text": [
      "Now processing: data/wiki-pages-text/wiki-047.txt\n"
     ]
    },
    {
     "name": "stderr",
     "output_type": "stream",
     "text": [
      "\r",
      " 43%|████▎     | 47/109 [1:19:00<2:26:58, 142.23s/it]"
     ]
    },
    {
     "name": "stdout",
     "output_type": "stream",
     "text": [
      "Now processing: data/wiki-pages-text/wiki-048.txt\n"
     ]
    },
    {
     "name": "stderr",
     "output_type": "stream",
     "text": [
      "\r",
      " 44%|████▍     | 48/109 [1:21:24<2:24:53, 142.51s/it]"
     ]
    },
    {
     "name": "stdout",
     "output_type": "stream",
     "text": [
      "Now processing: data/wiki-pages-text/wiki-049.txt\n"
     ]
    },
    {
     "name": "stderr",
     "output_type": "stream",
     "text": [
      "\r",
      " 45%|████▍     | 49/109 [1:23:42<2:21:20, 141.34s/it]"
     ]
    },
    {
     "name": "stdout",
     "output_type": "stream",
     "text": [
      "Now processing: data/wiki-pages-text/wiki-050.txt\n"
     ]
    },
    {
     "name": "stderr",
     "output_type": "stream",
     "text": [
      "\r",
      " 46%|████▌     | 50/109 [1:26:05<2:19:17, 141.65s/it]"
     ]
    },
    {
     "name": "stdout",
     "output_type": "stream",
     "text": [
      "Now processing: data/wiki-pages-text/wiki-051.txt\n"
     ]
    },
    {
     "name": "stderr",
     "output_type": "stream",
     "text": [
      "\r",
      " 47%|████▋     | 51/109 [1:28:21<2:15:26, 140.11s/it]"
     ]
    },
    {
     "name": "stdout",
     "output_type": "stream",
     "text": [
      "Now processing: data/wiki-pages-text/wiki-052.txt\n"
     ]
    },
    {
     "name": "stderr",
     "output_type": "stream",
     "text": [
      "\r",
      " 48%|████▊     | 52/109 [1:30:42<2:13:18, 140.32s/it]"
     ]
    },
    {
     "name": "stdout",
     "output_type": "stream",
     "text": [
      "Now processing: data/wiki-pages-text/wiki-053.txt\n"
     ]
    },
    {
     "name": "stderr",
     "output_type": "stream",
     "text": [
      "\r",
      " 49%|████▊     | 53/109 [1:33:00<2:10:23, 139.70s/it]"
     ]
    },
    {
     "name": "stdout",
     "output_type": "stream",
     "text": [
      "Now processing: data/wiki-pages-text/wiki-054.txt\n"
     ]
    },
    {
     "name": "stderr",
     "output_type": "stream",
     "text": [
      "\r",
      " 50%|████▉     | 54/109 [1:35:13<2:06:16, 137.76s/it]"
     ]
    },
    {
     "name": "stdout",
     "output_type": "stream",
     "text": [
      "Now processing: data/wiki-pages-text/wiki-055.txt\n"
     ]
    },
    {
     "name": "stderr",
     "output_type": "stream",
     "text": [
      "\r",
      " 50%|█████     | 55/109 [1:37:20<2:00:53, 134.32s/it]"
     ]
    },
    {
     "name": "stdout",
     "output_type": "stream",
     "text": [
      "Now processing: data/wiki-pages-text/wiki-056.txt\n"
     ]
    },
    {
     "name": "stderr",
     "output_type": "stream",
     "text": [
      "\r",
      " 51%|█████▏    | 56/109 [1:39:29<1:57:27, 132.98s/it]"
     ]
    },
    {
     "name": "stdout",
     "output_type": "stream",
     "text": [
      "Now processing: data/wiki-pages-text/wiki-057.txt\n"
     ]
    },
    {
     "name": "stderr",
     "output_type": "stream",
     "text": [
      "\r",
      " 52%|█████▏    | 57/109 [1:41:59<1:59:32, 137.92s/it]"
     ]
    },
    {
     "name": "stdout",
     "output_type": "stream",
     "text": [
      "Now processing: data/wiki-pages-text/wiki-058.txt\n"
     ]
    },
    {
     "name": "stderr",
     "output_type": "stream",
     "text": [
      "\r",
      " 53%|█████▎    | 58/109 [1:44:25<1:59:23, 140.47s/it]"
     ]
    },
    {
     "name": "stdout",
     "output_type": "stream",
     "text": [
      "Now processing: data/wiki-pages-text/wiki-059.txt\n"
     ]
    },
    {
     "name": "stderr",
     "output_type": "stream",
     "text": [
      "\r",
      " 54%|█████▍    | 59/109 [1:47:03<2:01:28, 145.78s/it]"
     ]
    },
    {
     "name": "stdout",
     "output_type": "stream",
     "text": [
      "Now processing: data/wiki-pages-text/wiki-060.txt\n"
     ]
    },
    {
     "name": "stderr",
     "output_type": "stream",
     "text": [
      "\r",
      " 55%|█████▌    | 60/109 [1:49:48<2:03:40, 151.44s/it]"
     ]
    },
    {
     "name": "stdout",
     "output_type": "stream",
     "text": [
      "Now processing: data/wiki-pages-text/wiki-061.txt\n"
     ]
    },
    {
     "name": "stderr",
     "output_type": "stream",
     "text": [
      "\r",
      " 56%|█████▌    | 61/109 [1:52:33<2:04:23, 155.48s/it]"
     ]
    },
    {
     "name": "stdout",
     "output_type": "stream",
     "text": [
      "Now processing: data/wiki-pages-text/wiki-062.txt\n"
     ]
    },
    {
     "name": "stderr",
     "output_type": "stream",
     "text": [
      "\r",
      " 57%|█████▋    | 62/109 [1:55:23<2:05:06, 159.72s/it]"
     ]
    },
    {
     "name": "stdout",
     "output_type": "stream",
     "text": [
      "Now processing: data/wiki-pages-text/wiki-063.txt\n"
     ]
    },
    {
     "name": "stderr",
     "output_type": "stream",
     "text": [
      "\r",
      " 58%|█████▊    | 63/109 [1:58:01<2:02:05, 159.24s/it]"
     ]
    },
    {
     "name": "stdout",
     "output_type": "stream",
     "text": [
      "Now processing: data/wiki-pages-text/wiki-064.txt\n"
     ]
    },
    {
     "name": "stderr",
     "output_type": "stream",
     "text": [
      "\r",
      " 59%|█████▊    | 64/109 [2:00:36<1:58:25, 157.89s/it]"
     ]
    },
    {
     "name": "stdout",
     "output_type": "stream",
     "text": [
      "Now processing: data/wiki-pages-text/wiki-065.txt\n"
     ]
    },
    {
     "name": "stderr",
     "output_type": "stream",
     "text": [
      "\r",
      " 60%|█████▉    | 65/109 [2:03:13<1:55:40, 157.73s/it]"
     ]
    },
    {
     "name": "stdout",
     "output_type": "stream",
     "text": [
      "Now processing: data/wiki-pages-text/wiki-066.txt\n"
     ]
    },
    {
     "name": "stderr",
     "output_type": "stream",
     "text": [
      "\r",
      " 61%|██████    | 66/109 [2:10:56<2:58:40, 249.31s/it]"
     ]
    },
    {
     "name": "stdout",
     "output_type": "stream",
     "text": [
      "Now processing: data/wiki-pages-text/wiki-067.txt\n"
     ]
    },
    {
     "name": "stderr",
     "output_type": "stream",
     "text": [
      "\r",
      " 61%|██████▏   | 67/109 [2:13:49<2:38:26, 226.35s/it]"
     ]
    },
    {
     "name": "stdout",
     "output_type": "stream",
     "text": [
      "Now processing: data/wiki-pages-text/wiki-068.txt\n"
     ]
    },
    {
     "name": "stderr",
     "output_type": "stream",
     "text": [
      "\r",
      " 62%|██████▏   | 68/109 [2:16:39<2:23:14, 209.62s/it]"
     ]
    },
    {
     "name": "stdout",
     "output_type": "stream",
     "text": [
      "Now processing: data/wiki-pages-text/wiki-069.txt\n"
     ]
    },
    {
     "name": "stderr",
     "output_type": "stream",
     "text": [
      "\r",
      " 63%|██████▎   | 69/109 [2:19:29<2:11:44, 197.61s/it]"
     ]
    },
    {
     "name": "stdout",
     "output_type": "stream",
     "text": [
      "Now processing: data/wiki-pages-text/wiki-070.txt\n"
     ]
    },
    {
     "name": "stderr",
     "output_type": "stream",
     "text": [
      "\r",
      " 64%|██████▍   | 70/109 [2:22:23<2:03:49, 190.50s/it]"
     ]
    },
    {
     "name": "stdout",
     "output_type": "stream",
     "text": [
      "Now processing: data/wiki-pages-text/wiki-071.txt\n"
     ]
    },
    {
     "name": "stderr",
     "output_type": "stream",
     "text": [
      "\r",
      " 65%|██████▌   | 71/109 [2:25:20<1:58:03, 186.41s/it]"
     ]
    },
    {
     "name": "stdout",
     "output_type": "stream",
     "text": [
      "Now processing: data/wiki-pages-text/wiki-072.txt\n"
     ]
    },
    {
     "name": "stderr",
     "output_type": "stream",
     "text": [
      "\r",
      " 66%|██████▌   | 72/109 [2:28:14<1:52:46, 182.88s/it]"
     ]
    },
    {
     "name": "stdout",
     "output_type": "stream",
     "text": [
      "Now processing: data/wiki-pages-text/wiki-073.txt\n"
     ]
    },
    {
     "name": "stderr",
     "output_type": "stream",
     "text": [
      "\r",
      " 67%|██████▋   | 73/109 [2:31:29<1:51:49, 186.36s/it]"
     ]
    },
    {
     "name": "stdout",
     "output_type": "stream",
     "text": [
      "Now processing: data/wiki-pages-text/wiki-074.txt\n"
     ]
    },
    {
     "name": "stderr",
     "output_type": "stream",
     "text": [
      "\r",
      " 68%|██████▊   | 74/109 [2:34:43<1:50:08, 188.80s/it]"
     ]
    },
    {
     "name": "stdout",
     "output_type": "stream",
     "text": [
      "Now processing: data/wiki-pages-text/wiki-075.txt\n"
     ]
    },
    {
     "name": "stderr",
     "output_type": "stream",
     "text": [
      "\r",
      " 69%|██████▉   | 75/109 [2:37:54<1:47:20, 189.44s/it]"
     ]
    },
    {
     "name": "stdout",
     "output_type": "stream",
     "text": [
      "Now processing: data/wiki-pages-text/wiki-076.txt\n"
     ]
    },
    {
     "name": "stderr",
     "output_type": "stream",
     "text": [
      "\r",
      " 70%|██████▉   | 76/109 [2:41:30<1:48:35, 197.43s/it]"
     ]
    },
    {
     "name": "stdout",
     "output_type": "stream",
     "text": [
      "Now processing: data/wiki-pages-text/wiki-077.txt\n"
     ]
    },
    {
     "name": "stderr",
     "output_type": "stream",
     "text": [
      "\r",
      " 71%|███████   | 77/109 [2:44:49<1:45:32, 197.90s/it]"
     ]
    },
    {
     "name": "stdout",
     "output_type": "stream",
     "text": [
      "Now processing: data/wiki-pages-text/wiki-078.txt\n"
     ]
    },
    {
     "name": "stderr",
     "output_type": "stream",
     "text": [
      "\r",
      " 72%|███████▏  | 78/109 [2:48:16<1:43:41, 200.68s/it]"
     ]
    },
    {
     "name": "stdout",
     "output_type": "stream",
     "text": [
      "Now processing: data/wiki-pages-text/wiki-079.txt\n"
     ]
    }
   ],
   "source": [
    "indexCounter = 0\n",
    "print('Time started at', datetime.datetime.now().time())\n",
    "with tqdm(total=len(filesInDataPath)) as pbar:\n",
    "    for shardFile in filesInDataPath:\n",
    "        with open(shardFile, 'r') as openedFile:\n",
    "            print('Now processing:', shardFile)\n",
    "            for line in openedFile:\n",
    "                indexCounter += 1\n",
    "                # Processing line\n",
    "                docID, sentenceID, text = line.split(' ', 2)\n",
    "                try:\n",
    "                    sentenceID = int(sentenceID)\n",
    "                except Exception:\n",
    "                    pass\n",
    "                xapianDoc = xapian.Document()\n",
    "                xapianDoc.set_data(text + ',,,' + docID +',,,' + str(sentenceID))\n",
    "                index.set_document(xapianDoc)\n",
    "                index.index_text(text)\n",
    "                index.increase_termpos()\n",
    "                x_db.replace_document(indexCounter, xapianDoc)\n",
    "        x_db.commit()\n",
    "        pbar.update(1)\n",
    "x_db.close()"
   ]
  },
  {
   "cell_type": "markdown",
   "metadata": {},
   "source": [
    "Check DB statistics"
   ]
  },
  {
   "cell_type": "code",
   "execution_count": null,
   "metadata": {},
   "outputs": [],
   "source": [
    "!xapian-delve $dbpath"
   ]
  },
  {
   "cell_type": "markdown",
   "metadata": {},
   "source": [
    "Search DB"
   ]
  },
  {
   "cell_type": "code",
   "execution_count": null,
   "metadata": {},
   "outputs": [],
   "source": [
    "TOP_RESULTS_LIMIT = 15"
   ]
  },
  {
   "cell_type": "code",
   "execution_count": null,
   "metadata": {},
   "outputs": [],
   "source": [
    "def search(dbpath, querystring, offset=0, pagesize=10):\n",
    "    \n",
    "    database = xapian.Database(dbpath)\n",
    "    enquire = xapian.Enquire(database)\n",
    "    query_string = querystring\n",
    "\n",
    "    qp = xapian.QueryParser()\n",
    "    stemmer = xapian.Stem(\"english\")\n",
    "    qp.set_stemmer(stemmer)\n",
    "    qp.set_database(database)\n",
    "    \n",
    "    qp.set_stemming_strategy(xapian.QueryParser.STEM_SOME)\n",
    "    query = qp.parse_query(query_string)\n",
    "    #print \"Parsed query is: %s\" % str(query)\n",
    "\n",
    "    # Find the top results for the query.\n",
    "    enquire.set_query(query)\n",
    "    matches = enquire.get_mset(0, TOP_RESULTS_LIMIT)\n",
    "\n",
    "    # Display the results.\n",
    "    #print(%i results found.\" % matches.get_matches_estimated()\n",
    "    #print \"Results 1-%i:\" % matches.size()\n",
    "\n",
    "    for m in matches:\n",
    "        print('RANK:', m.rank + 1)\n",
    "        print('PERCENTAGE MATCH:', m.percent)\n",
    "        print('DOC ID:', m.docid)\n",
    "        print('DOC TXT:', m.document.get_data())"
   ]
  },
  {
   "cell_type": "code",
   "execution_count": null,
   "metadata": {
    "scrolled": true
   },
   "outputs": [],
   "source": [
    "query = \"Xanax\"\n",
    "matches = search(dbpath, query)"
   ]
  },
  {
   "cell_type": "code",
   "execution_count": null,
   "metadata": {},
   "outputs": [],
   "source": []
  }
 ],
 "metadata": {
  "kernelspec": {
   "display_name": "Python 3",
   "language": "python",
   "name": "python3"
  },
  "language_info": {
   "codemirror_mode": {
    "name": "ipython",
    "version": 3
   },
   "file_extension": ".py",
   "mimetype": "text/x-python",
   "name": "python",
   "nbconvert_exporter": "python",
   "pygments_lexer": "ipython3",
   "version": "3.7.3"
  }
 },
 "nbformat": 4,
 "nbformat_minor": 2
}
