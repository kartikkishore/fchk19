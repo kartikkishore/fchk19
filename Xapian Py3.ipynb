{
 "cells": [
  {
   "cell_type": "code",
   "execution_count": 16,
   "metadata": {},
   "outputs": [],
   "source": [
    "import spacy\n",
    "import os\n",
    "import xapian\n",
    "import re\n",
    "import io\n",
    "import shutil\n",
    "import nltk\n",
    "import json\n",
    "import time\n",
    "from tqdm import tqdm as tqdm"
   ]
  },
  {
   "cell_type": "code",
   "execution_count": 15,
   "metadata": {},
   "outputs": [],
   "source": [
    "dbpath = 'index/xapIndex_SenID_Text'\n",
    "datapath = 'data/wiki-pages-text/'"
   ]
  },
  {
   "cell_type": "markdown",
   "metadata": {},
   "source": [
    "# Shard Paths"
   ]
  },
  {
   "cell_type": "code",
   "execution_count": 4,
   "metadata": {},
   "outputs": [],
   "source": [
    "filesInDataPath = sorted([datapath + fileName for fileName in os.listdir(datapath)], reverse=True)\n",
    "filesInDataPath = sorted(filesInDataPath)"
   ]
  },
  {
   "cell_type": "code",
   "execution_count": 5,
   "metadata": {},
   "outputs": [],
   "source": [
    "assert(filesInDataPath[0]=='data/wiki-pages-text/wiki-001.txt')"
   ]
  },
  {
   "cell_type": "markdown",
   "metadata": {},
   "source": [
    "# Helper function"
   ]
  },
  {
   "cell_type": "code",
   "execution_count": null,
   "metadata": {},
   "outputs": [],
   "source": [
    "def shardToDF(shardPath):\n",
    "    tempArray = []\n",
    "    with open(shardPath, 'r') as openedFile:\n",
    "        for line in openedFile:\n",
    "            pageTitle, sentenceNo, pageText = line.split(' ', 2)\n",
    "            try:\n",
    "                sentenceNo = int(sentenceNo)\n",
    "            except Exception:\n",
    "                print(line)\n",
    "                pass\n",
    "            tempArray.append([pageTitle, sentenceNo, pageText])\n",
    "        return pd.DataFrame.from_records(tempArray, columns=['pageTitle','sentenceNo' ,'pageText'])"
   ]
  },
  {
   "cell_type": "markdown",
   "metadata": {},
   "source": [
    "# XAPIAN"
   ]
  },
  {
   "cell_type": "markdown",
   "metadata": {},
   "source": [
    "Xapian build Index"
   ]
  },
  {
   "cell_type": "code",
   "execution_count": 6,
   "metadata": {},
   "outputs": [],
   "source": [
    "x_db = xapian.WritableDatabase(dbpath, xapian.DB_CREATE_OR_OPEN)"
   ]
  },
  {
   "cell_type": "markdown",
   "metadata": {},
   "source": [
    "Set termgenerator for indexing"
   ]
  },
  {
   "cell_type": "code",
   "execution_count": 7,
   "metadata": {},
   "outputs": [],
   "source": [
    "index = xapian.TermGenerator()"
   ]
  },
  {
   "cell_type": "markdown",
   "metadata": {},
   "source": [
    "Set Stemmer"
   ]
  },
  {
   "cell_type": "code",
   "execution_count": 8,
   "metadata": {},
   "outputs": [],
   "source": [
    "index.set_stemmer(xapian.Stem('en'))"
   ]
  },
  {
   "cell_type": "markdown",
   "metadata": {},
   "source": [
    "Build Index"
   ]
  },
  {
   "cell_type": "code",
   "execution_count": 9,
   "metadata": {
    "scrolled": true
   },
   "outputs": [
    {
     "name": "stderr",
     "output_type": "stream",
     "text": [
      "100%|██████████| 1/1 [00:37<00:00, 37.87s/it]\n"
     ]
    }
   ],
   "source": [
    "with tqdm(total=len(filesInDataPath[:1])) as pbar:\n",
    "    for shardFile in filesInDataPath[:1]:\n",
    "        shardNumber = shardFile.split('text/wiki-')[1].split('.')[0]\n",
    "        with open(shardFile, 'r') as openedFile:\n",
    "            for line in openedFile:\n",
    "                \n",
    "                pageTitle, sentenceNo, pageText = line.split(' ', 2)\n",
    "                indexCounter = u\"Q\" + pageTitle\n",
    "                try:\n",
    "                    pageTitle = normalize(pageTitle)\n",
    "                    pageText = normalize(pageText)\n",
    "                    sentenceNo = int(sentenceNo)\n",
    "                except Exception:\n",
    "                    pass\n",
    "                \n",
    "                '''Set the data that we want to store'''\n",
    "                xapianDoc = xapian.Document()\n",
    "                dataDict = {'shard':shardNumber,\n",
    "                            'pageTitle':pageTitle,\n",
    "                            'sentenceNo':sentenceNo,\n",
    "                            'pageText':pageText}\n",
    "                xapianDoc.set_data(json.dumps(dataDict))\n",
    "                \n",
    "                '''Index book-keeping'''\n",
    "                index.set_document(xapianDoc)\n",
    "                index.index_text(pageText)\n",
    "                index.increase_termpos()\n",
    "                \n",
    "                x_db.replace_document(indexCounter, xapianDoc)\n",
    "        x_db.commit()\n",
    "        pbar.update(1)\n",
    "x_db.close()"
   ]
  },
  {
   "cell_type": "markdown",
   "metadata": {},
   "source": [
    "Check DB statistics"
   ]
  },
  {
   "cell_type": "code",
   "execution_count": 10,
   "metadata": {},
   "outputs": [
    {
     "name": "stdout",
     "output_type": "stream",
     "text": [
      "UUID = d9c0b167-f7a9-4da8-8093-4fcdb4e0a341\r\n",
      "number of documents = 341096\r\n",
      "average document length = 39.5802\r\n",
      "document length lower bound = 2\r\n",
      "document length upper bound = 412\r\n",
      "highest document id ever used = 341096\r\n",
      "has positional information = true\r\n",
      "revision = 36\r\n",
      "currently open for writing = false\r\n"
     ]
    }
   ],
   "source": [
    "!xapian-delve $dbpath"
   ]
  },
  {
   "cell_type": "markdown",
   "metadata": {},
   "source": [
    "Search DB"
   ]
  },
  {
   "cell_type": "code",
   "execution_count": 11,
   "metadata": {},
   "outputs": [],
   "source": [
    "TOP_RESULTS_LIMIT = 10\n",
    "\n",
    "def search(dbpath, querystring, offset=0, pagesize=10):\n",
    "    \n",
    "    database = xapian.Database(dbpath)\n",
    "    enquire = xapian.Enquire(database)\n",
    "    query_string = querystring\n",
    "\n",
    "    qp = xapian.QueryParser()\n",
    "    stemmer = xapian.Stem(\"english\")\n",
    "    qp.set_stemmer(stemmer)\n",
    "    qp.set_database(database)\n",
    "    \n",
    "    qp.set_stemming_strategy(xapian.QueryParser.STEM_SOME)\n",
    "    query = qp.parse_query(query_string)\n",
    "    #print \"Parsed query is: %s\" % str(query)\n",
    "\n",
    "    # Find the top results for the query.\n",
    "    enquire.set_query(query)\n",
    "    matches = enquire.get_mset(0, TOP_RESULTS_LIMIT)\n",
    "\n",
    "    # Display the results.\n",
    "    #print(%i results found.\" % matches.get_matches_estimated()\n",
    "    #print \"Results 1-%i:\" % matches.size()\n",
    "\n",
    "    for m in matches:\n",
    "        print('RANK:', m.rank + 1)\n",
    "        print('PERCENTAGE MATCH:', m.percent)\n",
    "        print('DOC ID:', m.docid)\n",
    "        print('DOC TXT:', m.document.get_data())"
   ]
  },
  {
   "cell_type": "code",
   "execution_count": 19,
   "metadata": {
    "scrolled": false
   },
   "outputs": [
    {
     "name": "stdout",
     "output_type": "stream",
     "text": [
      "RANK: 1\n",
      "PERCENTAGE MATCH: 100\n",
      "DOC ID: 3627901\n",
      "DOC TXT: b\"The Celtics play their home games at the TD Garden , which they share with the National Hockey League -LRB- NHL -RRB- 's Boston Bruins .\\n,,,Boston_Celtics,,,3\"\n",
      "RANK: 2\n",
      "PERCENTAGE MATCH: 98\n",
      "DOC ID: 11943886\n",
      "DOC TXT: b\"The Boston Celtics of the NBA currently use `` Circles '' as the intro music for their home games at TD Garden .\\n,,,KDrew,,,2\"\n",
      "RANK: 3\n",
      "PERCENTAGE MATCH: 83\n",
      "DOC ID: 275093\n",
      "DOC TXT: b'The 1952 NBA All-Star Game was an exhibition basketball game played on February 11 , 1952 , at Boston Garden in Boston , Massachusetts , home of the Boston Celtics .\\n,,,1952_NBA_All-Star_Game,,,0'\n",
      "RANK: 4\n",
      "PERCENTAGE MATCH: 83\n",
      "DOC ID: 301416\n",
      "DOC TXT: b'The 1951 NBA All-Star Game was an exhibition basketball game played on March 2 , 1951 , at Boston Garden in Boston , Massachusetts , home of the Boston Celtics .\\n,,,1951_NBA_All-Star_Game,,,0'\n",
      "RANK: 5\n",
      "PERCENTAGE MATCH: 81\n",
      "DOC ID: 385991\n",
      "DOC TXT: b\"Quarterfinal games were played at home team campus sites , while the final four games were played at the TD Banknorth Garden in Boston , Massachusetts , the home venue of the NHL 's Boston Bruins .\\n,,,2006_Hockey_East_Men's_Ice_Hockey_Tournament,,,2\"\n",
      "RANK: 6\n",
      "PERCENTAGE MATCH: 81\n",
      "DOC ID: 395514\n",
      "DOC TXT: b\"Quarterfinal games were played at home team campus sites , while the final four games were played at the TD Banknorth Garden in Boston , Massachusetts , the home venue of the NHL 's Boston Bruins .\\n,,,2007_Hockey_East_Men's_Ice_Hockey_Tournament,,,2\"\n",
      "RANK: 7\n",
      "PERCENTAGE MATCH: 78\n",
      "DOC ID: 13500151\n",
      "DOC TXT: b'They play their home games in the TD Garden .\\n,,,List_of_Boston_Celtics_head_coaches,,,4'\n",
      "RANK: 8\n",
      "PERCENTAGE MATCH: 77\n",
      "DOC ID: 22173032\n",
      "DOC TXT: b'TD Garden is the home arena for the Boston Bruins of the National Hockey League and the Boston Celtics of the National Basketball Association .\\n,,,TD_Garden,,,5'\n",
      "RANK: 9\n",
      "PERCENTAGE MATCH: 77\n",
      "DOC ID: 126883\n",
      "DOC TXT: b'Game 4 of the Celtics-Magic series was the last game played at Boston Garden .\\n,,,1995_NBA_Playoffs,,,25'\n",
      "RANK: 10\n",
      "PERCENTAGE MATCH: 73\n",
      "DOC ID: 16765481\n",
      "DOC TXT: b'The main concourse of North Station is located at the street level immediately below TD Garden , a major sports venue in Boston that is home to the Boston Bruins hockey team and the Boston Celtics basketball team .\\n,,,North_Station,,,2'\n",
      "RANK: 11\n",
      "PERCENTAGE MATCH: 68\n",
      "DOC ID: 30661\n",
      "DOC TXT: b\"Quarterfinal games were played at home team campus sites , while the final four games were played at the Boston Garden in Boston , Massachusetts , the home venue of the NHL 's Boston Bruins .\\n,,,1994_Hockey_East_Men's_Ice_Hockey_Tournament,,,2\"\n",
      "RANK: 12\n",
      "PERCENTAGE MATCH: 68\n",
      "DOC ID: 139475\n",
      "DOC TXT: b\"Quarterfinal games were played at home team campus sites , while the final four games were played at the Boston Garden in Boston , Massachusetts , the home venue of the NHL 's Boston Bruins .\\n,,,1991_Hockey_East_Men's_Ice_Hockey_Tournament,,,2\"\n",
      "RANK: 13\n",
      "PERCENTAGE MATCH: 68\n",
      "DOC ID: 204751\n",
      "DOC TXT: b\"Quarterfinal games were played at home team campus sites , while the final four games were played at the Boston Garden in Boston , Massachusetts , the home venue of the NHL 's Boston Bruins .\\n,,,1993_Hockey_East_Men's_Ice_Hockey_Tournament,,,2\"\n",
      "RANK: 14\n",
      "PERCENTAGE MATCH: 68\n",
      "DOC ID: 328965\n",
      "DOC TXT: b\"Quarterfinal games were played at home team campus sites , while the final four games were played at the Boston Garden in Boston , Massachusetts , the home venue of the NHL 's Boston Bruins .\\n,,,1992_Hockey_East_Men's_Ice_Hockey_Tournament,,,2\"\n",
      "RANK: 15\n",
      "PERCENTAGE MATCH: 68\n",
      "DOC ID: 13184606\n",
      "DOC TXT: b'Its home arena is the 17,565-person capacity TD Garden , where it has played since 1995 , after leaving the Boston Garden .\\n,,,List_of_Boston_Bruins_head_coaches,,,4'\n",
      "RANK: 16\n",
      "PERCENTAGE MATCH: 68\n",
      "DOC ID: 13215891\n",
      "DOC TXT: b'Its home arena is the 17,565-person capacity TD Garden , where it has played since 1995 , after leaving the Boston Garden .\\n,,,List_of_Boston_Bruins_general_managers,,,4'\n",
      "RANK: 17\n",
      "PERCENTAGE MATCH: 68\n",
      "DOC ID: 2295\n",
      "DOC TXT: b\"Quarterfinal games were played at home team campus sites , while the ` final four ' games were played at the Boston Garden in Boston , Massachusetts .\\n,,,1970_ECAC_Hockey_Men's_Ice_Hockey_Tournament,,,2\"\n",
      "RANK: 18\n",
      "PERCENTAGE MATCH: 68\n",
      "DOC ID: 21138\n",
      "DOC TXT: b\"Quarterfinal games were played at home team campus sites , while the ` final four ' games were played at the Boston Garden in Boston , Massachusetts .\\n,,,1977_ECAC_Hockey_Men's_Ice_Hockey_Tournament,,,2\"\n",
      "RANK: 19\n",
      "PERCENTAGE MATCH: 68\n",
      "DOC ID: 21558\n",
      "DOC TXT: b\"Quarterfinal games were played at home team campus sites , while the ` final four ' games were played at the Boston Garden in Boston , Massachusetts .\\n,,,1986_ECAC_Hockey_Men's_Ice_Hockey_Tournament,,,2\"\n",
      "RANK: 20\n",
      "PERCENTAGE MATCH: 68\n",
      "DOC ID: 34456\n",
      "DOC TXT: b\"Quarterfinal games were played at home team campus sites , while the ` final four ' games were played at the Boston Garden in Boston , Massachusetts .\\n,,,1972_ECAC_Hockey_Men's_Ice_Hockey_Tournament,,,2\"\n"
     ]
    }
   ],
   "source": [
    "query = \"The Boston Celtics play their home games at TD Garden\"\n",
    "matches = search(dbpath, query)"
   ]
  },
  {
   "cell_type": "code",
   "execution_count": null,
   "metadata": {},
   "outputs": [],
   "source": []
  }
 ],
 "metadata": {
  "kernelspec": {
   "display_name": "Python 3",
   "language": "python",
   "name": "python3"
  },
  "language_info": {
   "codemirror_mode": {
    "name": "ipython",
    "version": 3
   },
   "file_extension": ".py",
   "mimetype": "text/x-python",
   "name": "python",
   "nbconvert_exporter": "python",
   "pygments_lexer": "ipython3",
   "version": "3.7.3"
  }
 },
 "nbformat": 4,
 "nbformat_minor": 2
}
