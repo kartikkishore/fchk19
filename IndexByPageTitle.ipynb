{
 "cells": [
  {
   "cell_type": "code",
   "execution_count": 1,
   "metadata": {
    "scrolled": true
   },
   "outputs": [
    {
     "name": "stderr",
     "output_type": "stream",
     "text": [
      "/usr/local/lib/python3.7/site-packages/tqdm/autonotebook/__init__.py:14: TqdmExperimentalWarning: Using `tqdm.autonotebook.tqdm` in notebook mode. Use `tqdm.tqdm` instead to force console mode (e.g. in jupyter console)\n",
      "  \" (e.g. in jupyter console)\", TqdmExperimentalWarning)\n"
     ]
    }
   ],
   "source": [
    "from tqdm import tqdm\n",
    "import swifter"
   ]
  },
  {
   "cell_type": "markdown",
   "metadata": {},
   "source": [
    "Get data"
   ]
  },
  {
   "cell_type": "code",
   "execution_count": 2,
   "metadata": {},
   "outputs": [],
   "source": [
    "datapath = 'data/wiki-pages-text/'"
   ]
  },
  {
   "cell_type": "code",
   "execution_count": 3,
   "metadata": {},
   "outputs": [],
   "source": [
    "import os\n",
    "filesInDataPath = sorted([datapath + fileName for fileName in os.listdir(datapath)])"
   ]
  },
  {
   "cell_type": "markdown",
   "metadata": {},
   "source": [
    "**`sPacy`** - Helper Functions\n",
    "https://spacy.io/usage/spacy-101#annotations-ner"
   ]
  },
  {
   "cell_type": "code",
   "execution_count": 4,
   "metadata": {},
   "outputs": [],
   "source": [
    "import spacy\n",
    "nlp = spacy.load(\"en_core_web_lg\")\n",
    "\n",
    "def POStag(string):\n",
    "    return [(word.text, word.pos_) for word in nlp(string)]\n",
    "\n",
    "def NEtag(string, keywordMode=True):\n",
    "    if keywordMode:\n",
    "        return [ent.text for ent in nlp(string).ents]\n",
    "    else:\n",
    "        return [(ent.text, ent.label_) for ent in nlp(string).ents]"
   ]
  },
  {
   "cell_type": "code",
   "execution_count": 5,
   "metadata": {},
   "outputs": [],
   "source": [
    "import pandas as pd\n",
    "def shardToDF(shardPath):\n",
    "    tempArray = []\n",
    "    with open(shardPath, 'r') as openedFile:\n",
    "        for line in openedFile:\n",
    "            pageTitle, sentenceNo, pageText = line.split(' ', 2)\n",
    "            try:\n",
    "                sentenceNo = int(sentenceNo)\n",
    "                pageText = pageText.replace('-LRB- ','(')\n",
    "                pageText = pageText.replace(' -RRB-',')')\n",
    "                pageText = pageText.replace('-LSB- ','[')\n",
    "                pageText = pageText.replace(' -RSB-',']')\n",
    "            except Exception:\n",
    "                pass\n",
    "            tempArray.append([pageTitle, sentenceNo, pageText])\n",
    "        tempDF = pd.DataFrame.from_records(tempArray, columns=['pageTitle','sentenceNo' ,'pageText'])\n",
    "        return tempDF"
   ]
  },
  {
   "cell_type": "markdown",
   "metadata": {},
   "source": [
    "Create information DF for all shards"
   ]
  },
  {
   "cell_type": "code",
   "execution_count": 6,
   "metadata": {},
   "outputs": [
    {
     "name": "stderr",
     "output_type": "stream",
     "text": [
      "100%|██████████| 109/109 [03:01<00:00,  2.34s/it]\n"
     ]
    }
   ],
   "source": [
    "finalDF = pd.DataFrame()\n",
    "with tqdm(total=len(filesInDataPath)) as pbar:\n",
    "    for shardPath in filesInDataPath:\n",
    "        finalDF = pd.concat([finalDF, shardToDF(shardPath)])\n",
    "        pbar.update(1)"
   ]
  },
  {
   "cell_type": "markdown",
   "metadata": {},
   "source": [
    "Aggregating based on Page_Tiles"
   ]
  },
  {
   "cell_type": "code",
   "execution_count": 7,
   "metadata": {},
   "outputs": [],
   "source": [
    "concatenateFunction = lambda x: ' '.join(x)\n",
    "aggregation_functions = {'pageText': concatenateFunction}\n",
    "newDF = finalDF.groupby(finalDF['pageTitle']).aggregate(aggregation_functions)"
   ]
  },
  {
   "cell_type": "markdown",
   "metadata": {},
   "source": [
    "Precomputation: Find Keywords for each line, will take long"
   ]
  },
  {
   "cell_type": "code",
   "execution_count": null,
   "metadata": {},
   "outputs": [
    {
     "data": {
      "application/vnd.jupyter.widget-view+json": {
       "model_id": "c1d1d5733fe846f0aa8ab0e3387b7043",
       "version_major": 2,
       "version_minor": 0
      },
      "text/plain": [
       "HBox(children=(IntProgress(value=0, description='Pandas Apply', max=5396106, style=ProgressStyle(description_w…"
      ]
     },
     "metadata": {},
     "output_type": "display_data"
    }
   ],
   "source": [
    "newDF['keywords'] = newDF['pageText'].swifter.apply(lambda x: NEtag(x))\n",
    "newDF.to_pickle('data/nerDataset.pkl')"
   ]
  },
  {
   "cell_type": "markdown",
   "metadata": {},
   "source": [
    "### _`dump`_\n",
    "contains the aggregated dataframe in the form of a list"
   ]
  },
  {
   "cell_type": "code",
   "execution_count": null,
   "metadata": {},
   "outputs": [],
   "source": [
    "dump = newDF.to_records()"
   ]
  },
  {
   "cell_type": "markdown",
   "metadata": {},
   "source": [
    "# XAPIAN"
   ]
  },
  {
   "cell_type": "code",
   "execution_count": null,
   "metadata": {},
   "outputs": [],
   "source": [
    "import xapian"
   ]
  },
  {
   "cell_type": "code",
   "execution_count": null,
   "metadata": {},
   "outputs": [],
   "source": [
    "dbpath = 'index/xapian_index_v2'"
   ]
  },
  {
   "cell_type": "markdown",
   "metadata": {},
   "source": [
    "Xapian build Index"
   ]
  },
  {
   "cell_type": "code",
   "execution_count": null,
   "metadata": {},
   "outputs": [],
   "source": [
    "x_db = xapian.WritableDatabase(dbpath, xapian.DB_CREATE_OR_OPEN)"
   ]
  },
  {
   "cell_type": "markdown",
   "metadata": {},
   "source": [
    "Set termgenerator for indexing"
   ]
  },
  {
   "cell_type": "code",
   "execution_count": null,
   "metadata": {},
   "outputs": [],
   "source": [
    "index = xapian.TermGenerator()"
   ]
  },
  {
   "cell_type": "markdown",
   "metadata": {},
   "source": [
    "Set Stemmer"
   ]
  },
  {
   "cell_type": "code",
   "execution_count": null,
   "metadata": {},
   "outputs": [],
   "source": [
    "index.set_stemmer(xapian.Stem('en'))"
   ]
  },
  {
   "cell_type": "markdown",
   "metadata": {},
   "source": [
    "Build Index"
   ]
  },
  {
   "cell_type": "code",
   "execution_count": null,
   "metadata": {
    "scrolled": true
   },
   "outputs": [],
   "source": [
    "with tqdm(total=len(dump)) as pbar:\n",
    "    for pageTitle, pageText in dump:\n",
    "        indexCounter = u\"Q\" + pageTitle\n",
    "\n",
    "        '''Set the data that we want to store'''\n",
    "        xapianDoc = xapian.Document()\n",
    "        dataDict = {'pageTitle': pageTitle,\n",
    "                   'pageText': pageText}\n",
    "        xapianDoc.set_data(dataDict)\n",
    "\n",
    "        '''Index book-keeping'''\n",
    "        index.set_document(xapianDoc)\n",
    "        index.index_text(pageText)\n",
    "        index.increase_termpos()\n",
    "\n",
    "        x_db.replace_document(indexCounter, xapianDoc)\n",
    "        x_db.commit()\n",
    "        pbar.update(1)\n",
    "x_db.close()"
   ]
  }
 ],
 "metadata": {
  "kernelspec": {
   "display_name": "Python 3",
   "language": "python",
   "name": "python3"
  },
  "language_info": {
   "codemirror_mode": {
    "name": "ipython",
    "version": 3
   },
   "file_extension": ".py",
   "mimetype": "text/x-python",
   "name": "python",
   "nbconvert_exporter": "python",
   "pygments_lexer": "ipython3",
   "version": "3.7.3"
  }
 },
 "nbformat": 4,
 "nbformat_minor": 2
}
