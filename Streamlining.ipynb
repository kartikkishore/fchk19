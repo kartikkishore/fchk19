{
 "cells": [
  {
   "cell_type": "code",
   "execution_count": 1,
   "metadata": {},
   "outputs": [],
   "source": [
    "from tqdm import tqdm\n",
    "import pandas as pd\n",
    "import os\n",
    "import spacy\n",
    "import xapian"
   ]
  },
  {
   "cell_type": "markdown",
   "metadata": {},
   "source": [
    "### <p style=\"color:orange;\">Load lookup dataset -- Takes about 2-3 minutes, big file</p>"
   ]
  },
  {
   "cell_type": "code",
   "execution_count": 2,
   "metadata": {},
   "outputs": [],
   "source": [
    "finalDF = pd.read_pickle('data/lookupDataset.pkl')"
   ]
  },
  {
   "cell_type": "code",
   "execution_count": 3,
   "metadata": {},
   "outputs": [],
   "source": [
    "devsetPath = 'data/devset.json'\n",
    "datapath = 'data/wiki-pages-text/'\n",
    "dbpath = 'index/xIndex'"
   ]
  },
  {
   "cell_type": "code",
   "execution_count": 4,
   "metadata": {},
   "outputs": [
    {
     "name": "stdout",
     "output_type": "stream",
     "text": [
      "UUID = e43d8d88-5f65-4750-8169-e5cfa8350b82\r\n",
      "number of documents = 5396106\r\n",
      "average document length = 210.05\r\n",
      "document length lower bound = 1\r\n",
      "document length upper bound = 71671\r\n",
      "highest document id ever used = 5396106\r\n",
      "has positional information = true\r\n",
      "revision = 540\r\n",
      "currently open for writing = false\r\n"
     ]
    }
   ],
   "source": [
    "!xapian-delve $dbpath"
   ]
  },
  {
   "cell_type": "code",
   "execution_count": 15,
   "metadata": {},
   "outputs": [],
   "source": [
    "TOP_RESULTS_LIMIT = 100\n",
    "\n",
    "def search(dbpath, querystring, offset=0, pagesize=10, just_one_mode=False):\n",
    "    \n",
    "    database = xapian.Database(dbpath)\n",
    "    enquire = xapian.Enquire(database)\n",
    "    query_string = querystring\n",
    "\n",
    "    qp = xapian.QueryParser()\n",
    "    stemmer = xapian.Stem(\"english\")\n",
    "    qp.set_stemmer(stemmer)\n",
    "    qp.set_database(database)\n",
    "    \n",
    "    qp.set_stemming_strategy(xapian.QueryParser.STEM_SOME)\n",
    "    query = qp.parse_query(query_string)\n",
    "\n",
    "    enquire.set_query(query)\n",
    "    matches = enquire.get_mset(0, TOP_RESULTS_LIMIT)\n",
    "    if just_one_mode:\n",
    "        return matches\n",
    "    else:\n",
    "        resultArray = []\n",
    "        for m in matches:\n",
    "            resultArray.append([m.rank + 1, m.percent, m.docid, m.document.get_data().decode('utf-8')])\n",
    "        return pd.DataFrame.from_records(resultArray, columns=['Rank','Percent','Doc_ID','Document_Title'], index='Rank')"
   ]
  },
  {
   "cell_type": "code",
   "execution_count": 16,
   "metadata": {},
   "outputs": [],
   "source": [
    "def getPageText(pageTitle):\n",
    "    return list(finalDF[finalDF['pageTitle'] == pageTitle]['data'].values)[0]"
   ]
  },
  {
   "cell_type": "markdown",
   "metadata": {},
   "source": [
    "### <p style=\"color:orange;\">Search</p>"
   ]
  },
  {
   "cell_type": "code",
   "execution_count": 17,
   "metadata": {},
   "outputs": [
    {
     "data": {
      "text/html": [
       "<div>\n",
       "<style scoped>\n",
       "    .dataframe tbody tr th:only-of-type {\n",
       "        vertical-align: middle;\n",
       "    }\n",
       "\n",
       "    .dataframe tbody tr th {\n",
       "        vertical-align: top;\n",
       "    }\n",
       "\n",
       "    .dataframe thead th {\n",
       "        text-align: right;\n",
       "    }\n",
       "</style>\n",
       "<table border=\"1\" class=\"dataframe\">\n",
       "  <thead>\n",
       "    <tr style=\"text-align: right;\">\n",
       "      <th></th>\n",
       "      <th>Percent</th>\n",
       "      <th>Doc_ID</th>\n",
       "      <th>Document_Title</th>\n",
       "    </tr>\n",
       "    <tr>\n",
       "      <th>Rank</th>\n",
       "      <th></th>\n",
       "      <th></th>\n",
       "      <th></th>\n",
       "    </tr>\n",
       "  </thead>\n",
       "  <tbody>\n",
       "    <tr>\n",
       "      <th>1</th>\n",
       "      <td>50</td>\n",
       "      <td>4806635</td>\n",
       "      <td>The_Sagas_Of...</td>\n",
       "    </tr>\n",
       "    <tr>\n",
       "      <th>2</th>\n",
       "      <td>44</td>\n",
       "      <td>3404975</td>\n",
       "      <td>Murda_Muzik</td>\n",
       "    </tr>\n",
       "    <tr>\n",
       "      <th>3</th>\n",
       "      <td>39</td>\n",
       "      <td>609409</td>\n",
       "      <td>Back_on_Road</td>\n",
       "    </tr>\n",
       "    <tr>\n",
       "      <th>4</th>\n",
       "      <td>39</td>\n",
       "      <td>3404973</td>\n",
       "      <td>Murda_-LRB-Candyland_song-RRB-</td>\n",
       "    </tr>\n",
       "    <tr>\n",
       "      <th>5</th>\n",
       "      <td>39</td>\n",
       "      <td>4983491</td>\n",
       "      <td>U.S.A._-LRB-Aiight_Then-RRB-</td>\n",
       "    </tr>\n",
       "  </tbody>\n",
       "</table>\n",
       "</div>"
      ],
      "text/plain": [
       "      Percent   Doc_ID                  Document_Title\n",
       "Rank                                                  \n",
       "1          50  4806635                 The_Sagas_Of...\n",
       "2          44  3404975                     Murda_Muzik\n",
       "3          39   609409                    Back_on_Road\n",
       "4          39  3404973  Murda_-LRB-Candyland_song-RRB-\n",
       "5          39  4983491    U.S.A._-LRB-Aiight_Then-RRB-"
      ]
     },
     "execution_count": 17,
     "metadata": {},
     "output_type": "execute_result"
    }
   ],
   "source": [
    "query = \"Murda Beatz's\"\n",
    "search(dbpath, query)"
   ]
  },
  {
   "cell_type": "markdown",
   "metadata": {},
   "source": [
    "### <p style=\"color:orange;\">Get page text from the data loaded i.e. sentences for that page title</p>"
   ]
  },
  {
   "cell_type": "code",
   "execution_count": 19,
   "metadata": {},
   "outputs": [
    {
     "data": {
      "text/plain": [
       "\"The single `` Its Murda '' appeared in the Soundtrack for the movie Kidulthood .\\n\""
      ]
     },
     "execution_count": 19,
     "metadata": {},
     "output_type": "execute_result"
    }
   ],
   "source": [
    "getPageText('The_Sagas_Of...')"
   ]
  },
  {
   "cell_type": "code",
   "execution_count": 22,
   "metadata": {},
   "outputs": [
    {
     "data": {
      "text/html": [
       "<div>\n",
       "<style scoped>\n",
       "    .dataframe tbody tr th:only-of-type {\n",
       "        vertical-align: middle;\n",
       "    }\n",
       "\n",
       "    .dataframe tbody tr th {\n",
       "        vertical-align: top;\n",
       "    }\n",
       "\n",
       "    .dataframe thead th {\n",
       "        text-align: right;\n",
       "    }\n",
       "</style>\n",
       "<table border=\"1\" class=\"dataframe\">\n",
       "  <thead>\n",
       "    <tr style=\"text-align: right;\">\n",
       "      <th></th>\n",
       "      <th>index</th>\n",
       "      <th>claim</th>\n",
       "      <th>evidence</th>\n",
       "      <th>label</th>\n",
       "    </tr>\n",
       "  </thead>\n",
       "  <tbody>\n",
       "    <tr>\n",
       "      <th>0</th>\n",
       "      <td>91198</td>\n",
       "      <td>Colin Kaepernick became a starting quarterback...</td>\n",
       "      <td>[]</td>\n",
       "      <td>NOT ENOUGH INFO</td>\n",
       "    </tr>\n",
       "    <tr>\n",
       "      <th>1</th>\n",
       "      <td>194462</td>\n",
       "      <td>Tilda Swinton is a vegan.</td>\n",
       "      <td>[]</td>\n",
       "      <td>NOT ENOUGH INFO</td>\n",
       "    </tr>\n",
       "    <tr>\n",
       "      <th>2</th>\n",
       "      <td>137334</td>\n",
       "      <td>Fox 2000 Pictures released the film Soul Food.</td>\n",
       "      <td>[[Soul_Food_-LRB-film-RRB-, 0]]</td>\n",
       "      <td>SUPPORTS</td>\n",
       "    </tr>\n",
       "    <tr>\n",
       "      <th>3</th>\n",
       "      <td>166626</td>\n",
       "      <td>Anne Rice was born in New Jersey.</td>\n",
       "      <td>[]</td>\n",
       "      <td>NOT ENOUGH INFO</td>\n",
       "    </tr>\n",
       "    <tr>\n",
       "      <th>4</th>\n",
       "      <td>111897</td>\n",
       "      <td>Telemundo is a English-language television net...</td>\n",
       "      <td>[[Telemundo, 5], [Telemundo, 4], [Telemundo, 1...</td>\n",
       "      <td>REFUTES</td>\n",
       "    </tr>\n",
       "  </tbody>\n",
       "</table>\n",
       "</div>"
      ],
      "text/plain": [
       "    index                                              claim  \\\n",
       "0   91198  Colin Kaepernick became a starting quarterback...   \n",
       "1  194462                          Tilda Swinton is a vegan.   \n",
       "2  137334     Fox 2000 Pictures released the film Soul Food.   \n",
       "3  166626                  Anne Rice was born in New Jersey.   \n",
       "4  111897  Telemundo is a English-language television net...   \n",
       "\n",
       "                                            evidence            label  \n",
       "0                                                 []  NOT ENOUGH INFO  \n",
       "1                                                 []  NOT ENOUGH INFO  \n",
       "2                    [[Soul_Food_-LRB-film-RRB-, 0]]         SUPPORTS  \n",
       "3                                                 []  NOT ENOUGH INFO  \n",
       "4  [[Telemundo, 5], [Telemundo, 4], [Telemundo, 1...          REFUTES  "
      ]
     },
     "execution_count": 22,
     "metadata": {},
     "output_type": "execute_result"
    }
   ],
   "source": [
    "devset = pd.read_json(devsetPath, orient='index')\n",
    "devset.reset_index(inplace=True)\n",
    "devset.head()"
   ]
  },
  {
   "cell_type": "code",
   "execution_count": null,
   "metadata": {},
   "outputs": [],
   "source": []
  }
 ],
 "metadata": {
  "kernelspec": {
   "display_name": "Python 3",
   "language": "python",
   "name": "python3"
  },
  "language_info": {
   "codemirror_mode": {
    "name": "ipython",
    "version": 3
   },
   "file_extension": ".py",
   "mimetype": "text/x-python",
   "name": "python",
   "nbconvert_exporter": "python",
   "pygments_lexer": "ipython3",
   "version": "3.7.3"
  }
 },
 "nbformat": 4,
 "nbformat_minor": 2
}
